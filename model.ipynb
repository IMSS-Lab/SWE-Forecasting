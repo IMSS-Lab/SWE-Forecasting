{
  "nbformat": 4,
  "nbformat_minor": 0,
  "metadata": {
    "colab": {
      "provenance": []
    },
    "kernelspec": {
      "name": "python3",
      "display_name": "Python 3"
    },
    "language_info": {
      "name": "python"
    }
  },
  "cells": [
    {
      "cell_type": "code",
      "execution_count": null,
      "metadata": {
        "id": "pz1hktPhoX2_"
      },
      "outputs": [],
      "source": [
        "import numpy as np\n",
        "import tensorflow as tf\n",
        "from tensorflow.keras import layers, models\n",
        "from tensorflow.keras.mixed_precision import set_global_policy\n",
        "\n",
        "# Enable mixed precision\n",
        "set_global_policy('mixed_float16')\n",
        "\n",
        "# Set data path\n",
        "data_path = # Enter file path here\n",
        "\n",
        "# Load the data\n",
        "data = np.load(data_path, mmap_mode='r')\n",
        "\n",
        "# Calculate total number of samples\n",
        "total_samples = 100 * 90  # 9000 samples (100 months, 10x9 grid)\n",
        "\n",
        "# Create random indices for training and testing\n",
        "np.random.seed(42)  # for reproducibility\n",
        "all_indices = np.random.permutation(total_samples)\n",
        "train_indices = all_indices[:7200]\n",
        "test_indices = all_indices[7200:]\n",
        "\n",
        "def generate_sample(index):\n",
        "    month = index // 90 + 12  # Start from 12th month (0-based index)\n",
        "    block = index % 90\n",
        "    row = block // 9  # 0-9 for 10 rows\n",
        "    col = block % 9  # 0-8 for 9 columns\n",
        "\n",
        "    X = data[:, month-12:month, row, col]  # Shape: (4, 12, 64, 64, 3)\n",
        "    y = data[0, month, row, col]  # Shape: (64, 64, 3)\n",
        "\n",
        "    # Replace NaN values with 0\n",
        "    X = np.nan_to_num(X, nan=0.0)\n",
        "    y = np.nan_to_num(y, nan=0.0)\n",
        "\n",
        "    return X, y\n",
        "\n",
        "def create_dataset(indices, batch_size):\n",
        "    def gen():\n",
        "        for index in indices:\n",
        "            yield generate_sample(index)\n",
        "\n",
        "    dataset = tf.data.Dataset.from_generator(\n",
        "        gen,\n",
        "        output_signature=(\n",
        "            tf.TensorSpec(shape=(4, 12, 64, 64, 3), dtype=tf.float32),\n",
        "            tf.TensorSpec(shape=(64, 64, 3), dtype=tf.float32)\n",
        "        )\n",
        "    )\n",
        "    return dataset.batch(batch_size).prefetch(tf.data.AUTOTUNE).repeat()"
      ]
    }
  ]
}